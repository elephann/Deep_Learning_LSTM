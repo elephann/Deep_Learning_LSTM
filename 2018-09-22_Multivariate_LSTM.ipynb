{
 "cells": [
  {
   "cell_type": "markdown",
   "metadata": {},
   "source": [
    "## Building a classifier model for the Multivariate Time Series data using LSTM in Keras\n",
    "\n",
    "\n",
    "This is a three-class classification problem for the given multivariate time series data. The \"goal\" column has three values 0 (no event), 1 (event of type 1), and 2 (event of type 2). Although we can treat events 1 and 2 as one \"positive\" class and 0 as the \"negative\" class, we will build a 3-class classifier and create a confusion matrix.  \n",
    "\n",
    "We use LSTM, which is a variation of RNN, for building our network.\n",
    "\n",
    "#### About the dataset:\n",
    "There are 17 columns in total, of which the first two columns are the IDs for each timeseries (to mark the beginning and end of each timeseries), and are therefore discarded. The next 14 columns are the variables listed in time in equal intervals, and the last column is the \"goal\" column. There are 89 samples in each time series. For example, rows 2 to 90 represent one time series, rows 91 to 178 represent the next time series, and so on.\n",
    "\n",
    "\n",
    "#### Lets start by importing the necessary modules and loading the raw dataset:"
   ]
  },
  {
   "cell_type": "code",
   "execution_count": 1,
   "metadata": {},
   "outputs": [
    {
     "name": "stdout",
     "output_type": "stream",
     "text": [
      "     bx    by    bz    bl    bm    bn  bmag      vx      vy     vz    vmag  \\\n",
      "0  0.52  3.99 -2.53  0.12 -4.74 -0.33  4.75 -212.49  126.52  94.29  264.67   \n",
      "1 -0.46  2.83 -0.37  1.47 -2.49 -0.08  2.89 -205.30  121.80  91.70  255.72   \n",
      "2  0.63  3.69 -2.23  0.10 -4.36 -0.12  4.36 -208.85  119.43  89.61  256.73   \n",
      "\n",
      "     np    tpar    tper  goal  \n",
      "0  5.51  141.67  157.74     2  \n",
      "1  6.51  139.22  154.13     2  \n",
      "2  6.15  144.39  151.92     2  \n",
      "\n",
      "values.shape = (18245, 15)\n",
      "scaled.shape = (18245, 15)\n"
     ]
    }
   ],
   "source": [
    "import numpy as np\n",
    "from pandas import read_excel, DataFrame, concat\n",
    "from matplotlib import pyplot\n",
    "from sklearn.preprocessing import MinMaxScaler\n",
    "\n",
    "# Loading the raw dataset (ignore the first 2 columns A & B)\n",
    "dataset = read_excel(\"challenge_dataset.xlsx\", usecols=\"C:Q\")\n",
    "\n",
    "values = dataset.values\n",
    "\n",
    "print(dataset.head(3)) # Lets print the first 3 rows of the dataset to take a peek at what we have\n",
    "\n",
    "Nc = values.shape[1] # number of columns\n",
    "\n",
    "values = values.astype('float32') # ensuring all the data is float\n",
    "\n",
    "# normalizing features (columns 1 to 14) NOTE: column 15 = goal (three classes: 0, 1, 2)\n",
    "scaler = MinMaxScaler(feature_range=(0, 1))\n",
    "scaled = scaler.fit_transform(values[:,0:Nc])\n",
    "\n",
    "print()\n",
    "print(\"values.shape =\", values.shape)\n",
    "print(\"scaled.shape =\", scaled.shape)\n"
   ]
  },
  {
   "cell_type": "markdown",
   "metadata": {},
   "source": [
    "Note that we normalized all the features so that they range between 0 and 1.\n",
    "\n",
    "Now we need to frame the raw dataset into a supervised learning problem.\n",
    "We set timestep equal to 1 (t_prev = 1), which means that we only look at the data in the previous row to train and predict the class."
   ]
  },
  {
   "cell_type": "code",
   "execution_count": 2,
   "metadata": {},
   "outputs": [
    {
     "name": "stdout",
     "output_type": "stream",
     "text": [
      "reframed.shape before drop = (18244, 30)\n",
      "reframed.shape after  drop = (18244, 16)\n"
     ]
    }
   ],
   "source": [
    "##############################################################\n",
    "# framing the problem as supervised learning\n",
    "\n",
    "def series_to_supervised(data, n_in=1, n_out=1, dropnan=True):\n",
    "    \"\"\"\n",
    "    Frame the time series as a supervised learning dataset.\n",
    "    \n",
    "    Arguments:\n",
    "        data:    Sequence of observations as a list or NumPy array.\n",
    "        n_in:    Number of lag observations as input (X).\n",
    "        n_out:   Number of observations as output (y).\n",
    "        dropnan: Boolean, whether or not to drop rows with NaN values.\n",
    "    Returns:\n",
    "        Pandas DataFrame of series framed for supervised learning.\n",
    "    \"\"\"\n",
    "\n",
    "    n_vars = 1 if type(data) is list else data.shape[1]\n",
    "    df = DataFrame(data)\n",
    "    cols, names = list(), list()\n",
    "    # input sequence (t-n, ... t-1)\n",
    "    for i in range(n_in, 0, -1):\n",
    "        cols.append(df.shift(i))\n",
    "        names += [('var%d(t-%d)' % (j+1, i)) for j in range(n_vars)]\n",
    "    # future sequence (t, t+1, ... t+n)\n",
    "    for i in range(0, n_out):\n",
    "        cols.append(df.shift(-i))\n",
    "        if i == 0:\n",
    "            names += [('var%d(t)' % (j+1)) for j in range(n_vars)]\n",
    "        else:\n",
    "            names += [('var%d(t+%d)' % (j+1, i)) for j in range(n_vars)]\n",
    "    # put it all together\n",
    "    agg = concat(cols, axis=1)\n",
    "    agg.columns = names\n",
    "    # drop rows with NaN values\n",
    "    if dropnan:\n",
    "        agg.dropna(inplace=True)\n",
    "\n",
    "    return agg\n",
    "\n",
    "t_prev = 1 # timestep\n",
    "t_next = 1\n",
    "reframed = series_to_supervised(scaled, t_prev, t_next)\n",
    "print(\"reframed.shape before drop =\", reframed.shape)\n",
    "# dropping the columns that we don't want to predict\n",
    "reframed.drop(reframed.columns[[15,16,17,18,19,20,21,22,23,24,25,26,27,28]], axis=1, inplace=True)\n",
    "print(\"reframed.shape after  drop =\", reframed.shape)\n"
   ]
  },
  {
   "cell_type": "markdown",
   "metadata": {},
   "source": [
    "Now we will split the data into train/dev and test sets.\n",
    "\n",
    "We use 60% of the data for training, of which 20% is used for evaluation purposes (to make sure we are not overfitting). The rest of the data (40%) will be set aside to test the accuracy of the model.\n",
    "\n",
    "Note: we could also use 50% or 40% of the data for training/development purposes and use the remaining 50% or 60% of the data for test. The outcome would be very similar."
   ]
  },
  {
   "cell_type": "code",
   "execution_count": 3,
   "metadata": {},
   "outputs": [
    {
     "name": "stdout",
     "output_type": "stream",
     "text": [
      "train_X.shape = (10858, 1, 16)\n",
      "test_X.shape  = (7386, 1, 16)\n",
      "train_Y.shape = (10858, 3)\n",
      "test_Y.shape  = (7386, 3)\n"
     ]
    }
   ],
   "source": [
    "#############################################################################\n",
    "# splitting the data into train and test sets\n",
    "\n",
    "# taking 60% of the data for train/dev, and the remaining 40% for test\n",
    "n_train = 89 * int( reframed.values.shape[0]/89 * 0.60) #each time series has 89 entities\n",
    "\n",
    "# inputs\n",
    "train_X = np.array(reframed.values[:n_train, :])\n",
    "test_X  = np.array(reframed.values[n_train:, :])\n",
    "# outpts (making sure outputs are arrays of integers)\n",
    "last_column = values.shape[1] - 1 # last column (goal) in the raw dataset\n",
    "train_Y = np.array(values[t_prev:n_train+t_prev, last_column], dtype=int)\n",
    "test_Y  = np.array(values[t_prev+n_train:   , last_column], dtype=int)\n",
    "\n",
    "# Lets convert Y into a \"one-hot representation\" to make it suitable for the softmax classifier.\n",
    "def convert_to_one_hot(Y, C):\n",
    "    Y = np.eye(C)[Y.reshape(-1)]\n",
    "    return Y\n",
    "train_Y = convert_to_one_hot(train_Y, C = 3)\n",
    "test_Y  = convert_to_one_hot(test_Y,  C = 3)\n",
    "# now each row in Y will be a one-hot vector representing each class (0, 1, or 2)\n",
    "\n",
    "# reshaping the input data to be 3D for Keras [samples, timesteps, features]\n",
    "train_X = train_X.reshape((train_X.shape[0], t_prev, train_X.shape[1]))\n",
    "test_X  = test_X.reshape( (test_X.shape[0],  t_prev,  test_X.shape[1]))\n",
    "print(\"train_X.shape =\", train_X.shape)\n",
    "print(\"test_X.shape  =\", test_X.shape)\n",
    "print(\"train_Y.shape =\", train_Y.shape)\n",
    "print(\"test_Y.shape  =\", test_Y.shape)\n"
   ]
  },
  {
   "cell_type": "markdown",
   "metadata": {},
   "source": [
    "Now we will design the LSTM model in Keras. We use 32 hidden units for the LSTM layer. For optimization, we use Adam algorithm with a learning rate of 0.01, $\\beta_1$=0.9, $\\beta_2$=0.999, and a decay rate of 0.01. We set the number of epuchs to 4 (higher values result in overfitting).\n",
    "\n",
    "#### The most important hyperparameters in our model are:\n",
    "- number of hidden units in LSTM\n",
    "- learning rate\n",
    "- timestep (t_prev)\n",
    "- number of epuchs\n",
    "\n",
    "The values for the chosen hyperparameters above lead to satisfactory results."
   ]
  },
  {
   "cell_type": "code",
   "execution_count": 4,
   "metadata": {},
   "outputs": [
    {
     "name": "stderr",
     "output_type": "stream",
     "text": [
      "Using TensorFlow backend.\n"
     ]
    },
    {
     "name": "stdout",
     "output_type": "stream",
     "text": [
      "Train on 8686 samples, validate on 2172 samples\n",
      "Epoch 1/4\n",
      " - 1s - loss: 0.7913 - acc: 0.7039 - val_loss: 0.4240 - val_acc: 0.8287\n",
      "Epoch 2/4\n",
      " - 0s - loss: 0.2339 - acc: 0.9553 - val_loss: 0.1571 - val_acc: 0.9899\n",
      "Epoch 3/4\n",
      " - 0s - loss: 0.0794 - acc: 0.9968 - val_loss: 0.0743 - val_acc: 0.9959\n",
      "Epoch 4/4\n",
      " - 0s - loss: 0.0456 - acc: 0.9970 - val_loss: 0.0503 - val_acc: 0.9963\n"
     ]
    },
    {
     "data": {
      "image/png": "[encoded data removed]",
      "text/plain": [
       "<Figure size 432x288 with 1 Axes>"
      ]
     },
     "metadata": {
      "needs_background": "light"
     },
     "output_type": "display_data"
    },
    {
     "name": "stdout",
     "output_type": "stream",
     "text": [
      "_________________________________________________________________\n",
      "Layer (type)                 Output Shape              Param #   \n",
      "=================================================================\n",
      "lstm_1 (LSTM)                (None, 32)                6272      \n",
      "_________________________________________________________________\n",
      "dense_1 (Dense)              (None, 3)                 99        \n",
      "_________________________________________________________________\n",
      "activation_1 (Activation)    (None, 3)                 0         \n",
      "=================================================================\n",
      "Total params: 6,371\n",
      "Trainable params: 6,371\n",
      "Non-trainable params: 0\n",
      "_________________________________________________________________\n"
     ]
    }
   ],
   "source": [
    "#############################################################################\n",
    "# building the model in Keras\n",
    "\n",
    "from keras import optimizers\n",
    "from keras.models import Sequential\n",
    "from keras.layers import LSTM, Dense, Activation\n",
    "\n",
    "# designing the network\n",
    "input_shape = (train_X.shape[1], train_X.shape[2])\n",
    "\n",
    "model = Sequential()\n",
    "model.add(LSTM(32, input_shape=input_shape))\n",
    "model.add(Dense(3))\n",
    "model.add(Activation('softmax'))\n",
    "\n",
    "opt = optimizers.Adam(lr=0.01, beta_1=0.9, beta_2=0.999, decay=0.01)\n",
    "### optimizer='adam'\n",
    "### loss='categorical_accuracy', 'msle'\n",
    "### metrics=['accuracy'], ['msle', 'mae']\n",
    "model.compile(optimizer=opt, loss='categorical_crossentropy', metrics=['accuracy'])\n",
    "\n",
    "# fitting the network\n",
    "#Trained = model.fit(train_X, train_Y, epochs=5, validation_data=(test_X, test_Y), verbose=2, shuffle=False)\n",
    "Trained = model.fit(train_X, train_Y, epochs=4, validation_split = 0.2, verbose=2, shuffle=False)\n",
    "\n",
    "# plotting history\n",
    "pyplot.xlabel('Epoch')\n",
    "pyplot.ylabel('Loss')\n",
    "pyplot.plot(Trained.history['loss'],     label='train')\n",
    "pyplot.plot(Trained.history['val_loss'], label='eval')\n",
    "pyplot.legend()\n",
    "pyplot.show()\n",
    "\n",
    "# summary of the model\n",
    "model.summary()\n"
   ]
  },
  {
   "cell_type": "markdown",
   "metadata": {},
   "source": [
    "The accuracy of the training and development sets, based on the categorical crossentropy loss, is found to be 99.71% and 99.63%, respectively.\n",
    "\n",
    "We now evaluate the model to test its accuracy and to create a confusion matrix:"
   ]
  },
  {
   "cell_type": "code",
   "execution_count": 5,
   "metadata": {},
   "outputs": [
    {
     "name": "stdout",
     "output_type": "stream",
     "text": [
      "7386/7386 [==============================] - 0s 14us/step\n",
      "\n",
      "Test Loss:  0.047450723017397195\n",
      "Accuracy:   0.9959382615759546\n",
      "\n",
      "Confusion Matrix:\n",
      "[[3363   18    0]\n",
      " [   0 1865    4]\n",
      " [   0    8 2128]]\n",
      "\n",
      " Classification Report:\n",
      "                precision    recall  f1-score   support\n",
      "\n",
      "No event 0 (-)       1.00      0.99      1.00      3381\n",
      "   Event 1 (+)       0.99      1.00      0.99      1869\n",
      "   Event 2 (+)       1.00      1.00      1.00      2136\n",
      "\n",
      "   avg / total       1.00      1.00      1.00      7386\n",
      "\n"
     ]
    }
   ],
   "source": [
    "#############################################################################\n",
    "# evaluating the model\n",
    "\n",
    "from sklearn.metrics import confusion_matrix, classification_report\n",
    "\n",
    "Test = model.evaluate( test_X, test_Y, verbose=1 )\n",
    "print()\n",
    "print(\"Test Loss: \", Test[0])\n",
    "print(\"Accuracy:  \", Test[1])\n",
    "print()\n",
    "\n",
    "Predict = model.predict(test_X)\n",
    "#print(\"Predict.shape =\", Predict.shape)\n",
    "\n",
    "Y_pred = np.argmax(Predict, axis=1)\n",
    "Y_true = np.argmax(test_Y,  axis=1)\n",
    "\n",
    "#for i in range(150,160):\n",
    "#    print(Y_pred[i], Y_true[i])\n",
    "\n",
    "print(\"Confusion Matrix:\")\n",
    "print(confusion_matrix(Y_true, Y_pred))\n",
    "\n",
    "print(\"\\n Classification Report:\")\n",
    "target_classes = ['No event 0 (-)', 'Event 1 (+)', 'Event 2 (+)']\n",
    "print(classification_report(Y_true, Y_pred, target_names=target_classes))\n"
   ]
  },
  {
   "cell_type": "markdown",
   "metadata": {},
   "source": [
    "In addition to the overal accuracy and the confusion matrix, other important criteria such as precision and recall of our classifier are shown in the table above."
   ]
  },
  {
   "cell_type": "code",
   "execution_count": null,
   "metadata": {},
   "outputs": [],
   "source": []
  }
 ],
 "metadata": {
  "kernelspec": {
   "display_name": "Python 3",
   "language": "python",
   "name": "python3"
  },
  "language_info": {
   "codemirror_mode": {
    "name": "ipython",
    "version": 3
   },
   "file_extension": ".py",
   "mimetype": "text/x-python",
   "name": "python",
   "nbconvert_exporter": "python",
   "pygments_lexer": "ipython3",
   "version": "3.6.6"
  }
 },
 "nbformat": 4,
 "nbformat_minor": 2
}
